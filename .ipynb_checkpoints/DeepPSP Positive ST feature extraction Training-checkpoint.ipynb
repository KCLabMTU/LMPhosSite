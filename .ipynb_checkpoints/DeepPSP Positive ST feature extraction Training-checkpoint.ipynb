{
 "cells": [
  {
   "cell_type": "code",
   "execution_count": null,
   "id": "888407fb",
   "metadata": {},
   "outputs": [],
   "source": [
    "import os \n",
    "import pandas as pd\n",
    "import numpy as np\n",
    "\n",
    "os.chdir(\"/home/t326h379/Prot_T5/deeppsp\")\n",
    "\n",
    "\n",
    "Header_name = [\"Amino_Acid\"]\n",
    "\n",
    "col_of_feature = [i for i in range(1,1025)]\n",
    "\n",
    "Header_name = Header_name + col_of_feature\n",
    "\n",
    "def open_file(PID,csv_file_name, Position_individual):  \n",
    "\n",
    "    \n",
    "    df = pd.read_csv(csv_file_name, header=None)\n",
    "    \n",
    "    df.columns = Header_name\n",
    "\n",
    "    \n",
    "        \n",
    "\n",
    "    with open(csv_file_name) as outfile:\n",
    "        feature_vector = []\n",
    "        AA = []\n",
    "        lines = outfile.readlines()\n",
    "        for line in lines:\n",
    "            list = line.split(\",\")\n",
    "            AA.append(list[0])\n",
    "           \n",
    "        AA = ''.join(AA)\n",
    "        Position_individual = int(Position_individual)\n",
    "        \n",
    "        \n",
    "        index = Position_individual\n",
    "        \n",
    "        if (AA[index] == \"S\" or AA[index] == \"T\"):\n",
    "        \n",
    "\n",
    "            matrix = df.iloc[index]\n",
    "            grabbed_matrix =  np.array(matrix)\n",
    "\n",
    "\n",
    "            flatten_value = grabbed_matrix.ravel()\n",
    "\n",
    "            feature_vector = flatten_value.tolist()\n",
    "\n",
    "\n",
    "            listToStr = ','.join([str(elem) for elem in feature_vector])\n",
    "            \n",
    "\n",
    "\n",
    "\n",
    "            with open('Test_Feb_17_2022_Middle_amino_acid_DeepPSP_ST_Positive.txt','a+') as outfile:\n",
    "                outfile.write(PID)\n",
    "                outfile.write(\",\")\n",
    "\n",
    "                outfile.write(listToStr)\n",
    "                outfile.write(\"\\n\")\n",
    "\n",
    "with open(\"DeepPSP_test_Position_of_Phosphorylation_ST_residue_positive_site.txt\") as subash:\n",
    "    for line in subash:\n",
    "        x = line.split()\n",
    "        PID = x[0]\n",
    "        x = x[1]\n",
    "\n",
    "        x = x.split(\",\")\n",
    "        for i in range(len(x)):\n",
    "            csv_file_name = PID+\"_Prot_Trans_.csv\"\n",
    "            Position_individual = x[i]\n",
    "            print(PID, Position_individual)\n",
    "            open_file(PID,csv_file_name, Position_individual)"
   ]
  },
  {
   "cell_type": "markdown",
   "id": "715ed67d",
   "metadata": {},
   "source": [
    "# Feature vector extraction (length = 1024) from Prot_T5 file for the corresponding S,T, and Y phosphorylated residue"
   ]
  },
  {
   "cell_type": "markdown",
   "id": "9fa83c98",
   "metadata": {},
   "source": [
    "# Thank You"
   ]
  },
  {
   "cell_type": "code",
   "execution_count": null,
   "id": "12175a49",
   "metadata": {},
   "outputs": [],
   "source": []
  }
 ],
 "metadata": {
  "kernelspec": {
   "display_name": "Python 3 (ipykernel)",
   "language": "python",
   "name": "python3"
  },
  "language_info": {
   "codemirror_mode": {
    "name": "ipython",
    "version": 3
   },
   "file_extension": ".py",
   "mimetype": "text/x-python",
   "name": "python",
   "nbconvert_exporter": "python",
   "pygments_lexer": "ipython3",
   "version": "3.9.7"
  }
 },
 "nbformat": 4,
 "nbformat_minor": 5
}
